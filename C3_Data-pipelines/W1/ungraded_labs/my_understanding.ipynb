{
 "cells": [
  {
   "cell_type": "code",
   "execution_count": 3,
   "metadata": {
    "collapsed": true,
    "id": "lIYdn1woOS1n"
   },
   "outputs": [
    {
     "name": "stderr",
     "output_type": "stream",
     "text": [
      "C:\\Users\\NHI353\\Anaconda3\\envs\\IBM_Project_Debater\\lib\\site-packages\\tqdm\\auto.py:22: TqdmWarning: IProgress not found. Please update jupyter and ipywidgets. See https://ipywidgets.readthedocs.io/en/stable/user_install.html\n",
      "  from .autonotebook import tqdm as notebook_tqdm\n"
     ]
    }
   ],
   "source": [
    "import tensorflow as tf\n",
    "import tensorflow_datasets as tfds"
   ]
  },
  {
   "cell_type": "code",
   "execution_count": 4,
   "metadata": {
    "colab": {
     "base_uri": "https://localhost:8080/",
     "height": 84,
     "referenced_widgets": [
      "0feadfb1092846d3a5550444c974d626",
      "fd183994060d424bb6cad6f0ec334f39",
      "73d348581a474724a82d094bc9c8a6c2",
      "8366178ba61e4fd79b51221ed1c49154",
      "9cb708f578864f259dd20a1bbbac89e7",
      "06e956e6a96c4829a18e1f5c457196f6",
      "21474b17579145b89e22a5f32a86dbdf",
      "721b5509125b40e9856ece0de2534339",
      "e51a574da0de4fadb7f5525097ee29ec",
      "cee80c6274a34488ae7a025b70532147",
      "9d10e51fd2c54c95bb17c61dfad96019"
     ]
    },
    "collapsed": true,
    "id": "1bqrtuJc_L73",
    "outputId": "30e801dc-41f4-4469-f3b4-c54cfaf47ac3"
   },
   "outputs": [
    {
     "name": "stdout",
     "output_type": "stream",
     "text": [
      "Downloading and preparing dataset Unknown size (download: Unknown size, generated: Unknown size, total: Unknown size) to C:\\Users\\NHI353\\tensorflow_datasets\\mnist\\3.0.1...\n"
     ]
    },
    {
     "name": "stderr",
     "output_type": "stream",
     "text": [
      "Dl Completed...: 0 url [00:00, ? url/s]\n",
      "Dl Size...: 0 MiB [00:00, ? MiB/s]\u001b[A\n",
      "\n",
      "Dl Completed...:   0%|                                                                                                                             | 0/1 [00:00<?, ? url/s]\n",
      "Dl Size...: 0 MiB [00:00, ? MiB/s]\u001b[A\n",
      "\n",
      "Dl Completed...:   0%|                                                                                                                             | 0/2 [00:00<?, ? url/s]\n",
      "Dl Size...: 0 MiB [00:00, ? MiB/s]\u001b[A\n",
      "\n",
      "Dl Completed...:   0%|                                                                                                                             | 0/3 [00:00<?, ? url/s]\n",
      "Dl Size...: 0 MiB [00:00, ? MiB/s]\u001b[A\n",
      "\n",
      "Dl Completed...:   0%|                                                                                                                             | 0/4 [00:00<?, ? url/s]\n",
      "Dl Size...: 0 MiB [00:00, ? MiB/s]\u001b[A\n",
      "\n",
      "Dl Completed...:   0%|                                                                                                                             | 0/4 [00:00<?, ? url/s]\n",
      "Dl Size...: 0 MiB [00:00, ? MiB/s]\u001b[A\n",
      "\n",
      "Dl Completed...:   0%|                                                                                                                             | 0/4 [00:00<?, ? url/s]\n",
      "Dl Size...:   0%|                                                                                                                                  | 0/1 [00:00<?, ? MiB/s]\u001b[A\n",
      "\n",
      "Dl Completed...:   0%|                                                                                                                             | 0/4 [00:00<?, ? url/s]\n",
      "Dl Size...:   0%|                                                                                                                                 | 0/10 [00:00<?, ? MiB/s]\u001b[A\n",
      "\n",
      "Dl Completed...:   0%|                                                                                                                             | 0/4 [00:00<?, ? url/s]\n",
      "Dl Size...:   0%|                                                                                                                                 | 0/10 [00:00<?, ? MiB/s]\u001b[A\n",
      "\n",
      "Dl Completed...:  25%|█████████████████████████████▎                                                                                       | 1/4 [00:00<00:02,  1.41 url/s]\n",
      "Dl Size...:   0%|                                                                                                                                 | 0/10 [00:00<?, ? MiB/s]\u001b[A\n",
      "\n",
      "Dl Completed...:  25%|█████████████████████████████▎                                                                                       | 1/4 [00:00<00:02,  1.41 url/s]\n",
      "Dl Size...:   0%|                                                                                                                                 | 0/10 [00:00<?, ? MiB/s]\u001b[A\n",
      "\n",
      "Extraction completed...:   0%|                                                                                                                    | 0/1 [00:00<?, ? file/s]\u001b[A\u001b[A\n",
      "\n",
      "Dl Completed...:  25%|█████████████████████████████▎                                                                                       | 1/4 [00:00<00:02,  1.41 url/s]\u001b[A\u001b[A\n",
      "Dl Size...:   0%|                                                                                                                                 | 0/10 [00:00<?, ? MiB/s]\u001b[A\n",
      "\n",
      "Dl Completed...:  50%|██████████████████████████████████████████████████████████▌                                                          | 2/4 [00:00<00:00,  2.31 url/s]\u001b[A\u001b[A\n",
      "Dl Size...:   0%|                                                                                                                                 | 0/10 [00:00<?, ? MiB/s]\u001b[A\n",
      "\n",
      "Dl Completed...:  50%|██████████████████████████████████████████████████████████▌                                                          | 2/4 [00:01<00:00,  2.31 url/s]\u001b[A\u001b[A\n",
      "Dl Size...:   0%|                                                                                                                                 | 0/10 [00:01<?, ? MiB/s]\u001b[A\n",
      "\n",
      "Extraction completed...:  50%|██████████████████████████████████████████████████████                                                      | 1/2 [00:01<00:00,  1.12 file/s]\u001b[A\u001b[A\n",
      "\n",
      "Dl Completed...:  50%|██████████████████████████████████████████████████████████▌                                                          | 2/4 [00:01<00:00,  2.31 url/s]\u001b[A\u001b[A\n",
      "Dl Size...:   0%|                                                                                                                                 | 0/10 [00:01<?, ? MiB/s]\u001b[A\n",
      "\n",
      "Extraction completed...: 100%|████████████████████████████████████████████████████████████████████████████████████████████████████████████| 2/2 [00:01<00:00,  1.91 file/s]\u001b[A\u001b[A\n",
      "Dl Completed...:  50%|██████████████████████████████████████████████████████████▌                                                          | 2/4 [00:01<00:00,  2.31 url/s]\u001b[A\n",
      "Dl Size...:  10%|████████████                                                                                                             | 1/10 [00:01<00:12,  1.38s/ MiB]\u001b[A\n",
      "\n",
      "Dl Completed...:  50%|██████████████████████████████████████████████████████████▌                                                          | 2/4 [00:01<00:00,  2.31 url/s]\u001b[A\u001b[A\n",
      "Dl Size...:  20%|████████████████████████▏                                                                                                | 2/10 [00:01<00:11,  1.38s/ MiB]\u001b[A\n",
      "\n",
      "Dl Completed...:  75%|███████████████████████████████████████████████████████████████████████████████████████▊                             | 3/4 [00:01<00:00,  1.75 url/s]\u001b[A\u001b[A\n",
      "Dl Size...:  20%|████████████████████████▏                                                                                                | 2/10 [00:01<00:11,  1.38s/ MiB]\u001b[A\n",
      "\n",
      "Dl Completed...:  75%|███████████████████████████████████████████████████████████████████████████████████████▊                             | 3/4 [00:01<00:00,  1.75 url/s]\u001b[A\u001b[A\n",
      "Dl Size...:  20%|████████████████████████▏                                                                                                | 2/10 [00:01<00:11,  1.38s/ MiB]\u001b[A\n",
      "\n",
      "Extraction completed...:  67%|████████████████████████████████████████████████████████████████████████                                    | 2/3 [00:01<00:00,  1.91 file/s]\u001b[A\u001b[A\n",
      "Dl Completed...:  75%|███████████████████████████████████████████████████████████████████████████████████████▊                             | 3/4 [00:01<00:00,  1.75 url/s]\u001b[A\n",
      "Dl Size...:  30%|████████████████████████████████████▎                                                                                    | 3/10 [00:01<00:03,  1.98 MiB/s]\u001b[A\n",
      "\n",
      "Extraction completed...:  67%|████████████████████████████████████████████████████████████████████████                                    | 2/3 [00:01<00:00,  1.91 file/s]\u001b[A\u001b[A\n",
      "Dl Completed...:  75%|███████████████████████████████████████████████████████████████████████████████████████▊                             | 3/4 [00:01<00:00,  1.75 url/s]\u001b[A\n",
      "Dl Size...:  40%|████████████████████████████████████████████████▍                                                                        | 4/10 [00:01<00:02,  2.74 MiB/s]\u001b[A\n",
      "\n",
      "Dl Completed...:  75%|███████████████████████████████████████████████████████████████████████████████████████▊                             | 3/4 [00:01<00:00,  1.75 url/s]\u001b[A\u001b[A\n",
      "Dl Size...:  50%|████████████████████████████████████████████████████████████▌                                                            | 5/10 [00:01<00:01,  2.74 MiB/s]\u001b[A\n",
      "\n",
      "Extraction completed...:  67%|████████████████████████████████████████████████████████████████████████                                    | 2/3 [00:01<00:00,  1.91 file/s]\u001b[A\u001b[A\n",
      "Dl Completed...:  75%|███████████████████████████████████████████████████████████████████████████████████████▊                             | 3/4 [00:02<00:00,  1.75 url/s]\u001b[A\n",
      "Dl Size...:  60%|████████████████████████████████████████████████████████████████████████▌                                                | 6/10 [00:02<00:00,  4.62 MiB/s]\u001b[A\n",
      "\n"
     ]
    },
    {
     "name": "stderr",
     "output_type": "stream",
     "text": [
      "Extraction completed...:  67%|████████████████████████████████████████████████████████████████████████                                    | 2/3 [00:02<00:00,  1.91 file/s]\u001b[A\u001b[A\n",
      "\n",
      "Dl Completed...:  75%|███████████████████████████████████████████████████████████████████████████████████████▊                             | 3/4 [00:02<00:00,  1.75 url/s]\u001b[A\u001b[A\n",
      "Dl Size...:  60%|████████████████████████████████████████████████████████████████████████▌                                                | 6/10 [00:02<00:00,  4.62 MiB/s]\u001b[A\n",
      "\n",
      "Extraction completed...: 100%|████████████████████████████████████████████████████████████████████████████████████████████████████████████| 3/3 [00:02<00:00,  1.48 file/s]\u001b[A\u001b[A\n",
      "Dl Completed...:  75%|███████████████████████████████████████████████████████████████████████████████████████▊                             | 3/4 [00:02<00:00,  1.75 url/s]\u001b[A\n",
      "Dl Size...:  70%|████████████████████████████████████████████████████████████████████████████████████▋                                    | 7/10 [00:02<00:00,  5.35 MiB/s]\u001b[A\n",
      "\n",
      "Extraction completed...: 100%|████████████████████████████████████████████████████████████████████████████████████████████████████████████| 3/3 [00:02<00:00,  1.48 file/s]\u001b[A\u001b[A\n",
      "Dl Completed...:  75%|███████████████████████████████████████████████████████████████████████████████████████▊                             | 3/4 [00:02<00:00,  1.75 url/s]\u001b[A\n",
      "Dl Size...:  80%|████████████████████████████████████████████████████████████████████████████████████████████████▊                        | 8/10 [00:02<00:00,  4.83 MiB/s]\u001b[A\n",
      "\n",
      "Dl Completed...:  75%|███████████████████████████████████████████████████████████████████████████████████████▊                             | 3/4 [00:02<00:00,  1.75 url/s]\u001b[A\u001b[A\n",
      "Dl Size...:  90%|████████████████████████████████████████████████████████████████████████████████████████████████████████████▉            | 9/10 [00:02<00:00,  4.83 MiB/s]\u001b[A\n",
      "\n",
      "Dl Completed...:  75%|███████████████████████████████████████████████████████████████████████████████████████▊                             | 3/4 [00:02<00:00,  1.75 url/s]\u001b[A\u001b[A\n",
      "Dl Size...: 100%|████████████████████████████████████████████████████████████████████████████████████████████████████████████████████████| 10/10 [00:02<00:00,  4.83 MiB/s]\u001b[A\n",
      "\n",
      "Dl Completed...: 100%|█████████████████████████████████████████████████████████████████████████████████████████████████████████████████████| 4/4 [00:02<00:00,  1.32 url/s]\u001b[A\u001b[A\n",
      "Dl Size...: 100%|████████████████████████████████████████████████████████████████████████████████████████████████████████████████████████| 10/10 [00:02<00:00,  4.83 MiB/s]\u001b[A\n",
      "\n",
      "Dl Completed...: 100%|█████████████████████████████████████████████████████████████████████████████████████████████████████████████████████| 4/4 [00:02<00:00,  1.32 url/s]\u001b[A\u001b[A\n",
      "Dl Size...: 100%|████████████████████████████████████████████████████████████████████████████████████████████████████████████████████████| 10/10 [00:02<00:00,  4.83 MiB/s]\u001b[A\n",
      "\n",
      "Extraction completed...:  75%|█████████████████████████████████████████████████████████████████████████████████                           | 3/4 [00:02<00:00,  1.48 file/s]\u001b[A\u001b[A\n",
      "\n",
      "Dl Completed...: 100%|█████████████████████████████████████████████████████████████████████████████████████████████████████████████████████| 4/4 [00:03<00:00,  1.32 url/s]\u001b[A\u001b[A\n",
      "Dl Size...: 100%|████████████████████████████████████████████████████████████████████████████████████████████████████████████████████████| 10/10 [00:03<00:00,  4.83 MiB/s]\u001b[A\n",
      "\n",
      "Extraction completed...: 100%|████████████████████████████████████████████████████████████████████████████████████████████████████████████| 4/4 [00:03<00:00,  1.07 file/s]\u001b[A\u001b[A\n",
      "Dl Size...: 100%|████████████████████████████████████████████████████████████████████████████████████████████████████████████████████████| 10/10 [00:03<00:00,  2.67 MiB/s]\n",
      "Dl Completed...: 100%|█████████████████████████████████████████████████████████████████████████████████████████████████████████████████████| 4/4 [00:03<00:00,  1.07 url/s]\n",
      "Generating splits...:   0%|                                                                                                                     | 0/2 [00:00<?, ? splits/s]\n",
      "Generating train examples...: 0 examples [00:00, ? examples/s]\u001b[A\n",
      "Generating train examples...: 1 examples [00:00,  7.73 examples/s]\u001b[A\n",
      "Generating train examples...: 354 examples [00:00, 1845.64 examples/s]\u001b[A\n",
      "Generating train examples...: 719 examples [00:00, 2605.43 examples/s]\u001b[A\n",
      "Generating train examples...: 1138 examples [00:00, 3043.63 examples/s]\u001b[A\n",
      "Generating train examples...: 1556 examples [00:00, 3420.78 examples/s]\u001b[A\n",
      "Generating train examples...: 1945 examples [00:00, 3563.54 examples/s]\u001b[A\n",
      "Generating train examples...: 2338 examples [00:00, 3675.98 examples/s]\u001b[A\n",
      "Generating train examples...: 2735 examples [00:00, 3757.67 examples/s]\u001b[A\n",
      "Generating train examples...: 3157 examples [00:00, 3866.37 examples/s]\u001b[A\n",
      "Generating train examples...: 3546 examples [00:01, 3867.85 examples/s]\u001b[A\n",
      "Generating train examples...: 3936 examples [00:01, 3877.00 examples/s]\u001b[A\n",
      "Generating train examples...: 4325 examples [00:01, 3803.29 examples/s]\u001b[A\n",
      "Generating train examples...: 4730 examples [00:01, 3756.28 examples/s]\u001b[A\n",
      "Generating train examples...: 5107 examples [00:01, 3618.16 examples/s]\u001b[A\n",
      "Generating train examples...: 5527 examples [00:01, 3764.64 examples/s]\u001b[A\n",
      "Generating train examples...: 5949 examples [00:01, 3761.92 examples/s]\u001b[A\n",
      "Generating train examples...: 6359 examples [00:01, 3852.62 examples/s]\u001b[A\n",
      "Generating train examples...: 6749 examples [00:01, 3855.46 examples/s]\u001b[A\n",
      "Generating train examples...: 7251 examples [00:02, 4020.03 examples/s]\u001b[A\n",
      "Generating train examples...: 7653 examples [00:02, 4008.56 examples/s]\u001b[A\n",
      "Generating train examples...: 8109 examples [00:02, 4003.40 examples/s]\u001b[A\n",
      "Generating train examples...: 8510 examples [00:02, 3975.32 examples/s]\u001b[A\n",
      "Generating train examples...: 8908 examples [00:02, 3780.19 examples/s]\u001b[A\n",
      "Generating train examples...: 9292 examples [00:02, 3711.54 examples/s]\u001b[A\n",
      "Generating train examples...: 9686 examples [00:02, 3775.59 examples/s]\u001b[A\n",
      "Generating train examples...: 10178 examples [00:02, 3928.18 examples/s]\u001b[A\n",
      "Generating train examples...: 10597 examples [00:02, 3908.72 examples/s]\u001b[A\n",
      "Generating train examples...: 11017 examples [00:02, 3933.16 examples/s]\u001b[A\n",
      "Generating train examples...: 11411 examples [00:03, 3784.10 examples/s]\u001b[A\n",
      "Generating train examples...: 11810 examples [00:03, 3838.31 examples/s]\u001b[A\n",
      "Generating train examples...: 12195 examples [00:03, 3830.85 examples/s]\u001b[A\n",
      "Generating train examples...: 12586 examples [00:03, 3728.76 examples/s]\u001b[A\n",
      "Generating train examples...: 12960 examples [00:03, 3639.99 examples/s]\u001b[A\n",
      "Generating train examples...: 13325 examples [00:03, 3594.81 examples/s]\u001b[A\n",
      "Generating train examples...: 13685 examples [00:03, 3493.50 examples/s]\u001b[A\n",
      "Generating train examples...: 14035 examples [00:03, 3246.00 examples/s]\u001b[A\n",
      "Generating train examples...: 14409 examples [00:03, 3276.71 examples/s]\u001b[A\n",
      "Generating train examples...: 14809 examples [00:04, 3426.53 examples/s]\u001b[A\n",
      "Generating train examples...: 15284 examples [00:04, 3686.68 examples/s]\u001b[A\n",
      "Generating train examples...: 15711 examples [00:04, 3796.34 examples/s]\u001b[A\n",
      "Generating train examples...: 16093 examples [00:04, 3685.33 examples/s]\u001b[A\n",
      "Generating train examples...: 16463 examples [00:04, 3569.12 examples/s]\u001b[A\n",
      "Generating train examples...: 16881 examples [00:04, 3658.57 examples/s]\u001b[A\n",
      "Generating train examples...: 17249 examples [00:04, 3662.13 examples/s]\u001b[A\n",
      "Generating train examples...: 17616 examples [00:04, 3654.30 examples/s]\u001b[A\n",
      "Generating train examples...: 18017 examples [00:04, 3728.63 examples/s]\u001b[A\n",
      "Generating train examples...: 18391 examples [00:05, 3545.97 examples/s]\u001b[A\n",
      "Generating train examples...: 18748 examples [00:05, 3527.93 examples/s]\u001b[A\n",
      "Generating train examples...: 19182 examples [00:05, 3667.29 examples/s]\u001b[A\n",
      "Generating train examples...: 19550 examples [00:05, 3612.79 examples/s]\u001b[A\n",
      "Generating train examples...: 19912 examples [00:05, 3604.12 examples/s]\u001b[A\n"
     ]
    },
    {
     "name": "stderr",
     "output_type": "stream",
     "text": [
      "Generating train examples...: 20303 examples [00:05, 3580.02 examples/s]\u001b[A\n",
      "Generating train examples...: 20662 examples [00:05, 3580.83 examples/s]\u001b[A\n",
      "Generating train examples...: 21073 examples [00:05, 3732.29 examples/s]\u001b[A\n",
      "Generating train examples...: 21479 examples [00:05, 3820.45 examples/s]\u001b[A\n",
      "Generating train examples...: 21887 examples [00:05, 3892.96 examples/s]\u001b[A\n",
      "Generating train examples...: 22277 examples [00:06, 3827.47 examples/s]\u001b[A\n",
      "Generating train examples...: 22663 examples [00:06, 3825.80 examples/s]\u001b[A\n",
      "Generating train examples...: 23046 examples [00:06, 3813.75 examples/s]\u001b[A\n",
      "Generating train examples...: 23434 examples [00:06, 3830.27 examples/s]\u001b[A\n",
      "Generating train examples...: 23818 examples [00:06, 3788.19 examples/s]\u001b[A\n",
      "Generating train examples...: 24198 examples [00:06, 3736.87 examples/s]\u001b[A\n",
      "Generating train examples...: 24572 examples [00:06, 3705.18 examples/s]\u001b[A\n",
      "Generating train examples...: 25016 examples [00:06, 3800.34 examples/s]\u001b[A\n",
      "Generating train examples...: 25407 examples [00:06, 3820.88 examples/s]\u001b[A\n",
      "Generating train examples...: 25819 examples [00:07, 3888.07 examples/s]\u001b[A\n",
      "Generating train examples...: 26210 examples [00:07, 3888.26 examples/s]\u001b[A\n",
      "Generating train examples...: 26599 examples [00:07, 3843.50 examples/s]\u001b[A\n",
      "Generating train examples...: 26984 examples [00:07, 3811.43 examples/s]\u001b[A\n",
      "Generating train examples...: 27399 examples [00:07, 3841.62 examples/s]\u001b[A\n",
      "Generating train examples...: 27784 examples [00:07, 3789.08 examples/s]\u001b[A\n",
      "Generating train examples...: 28163 examples [00:07, 3703.03 examples/s]\u001b[A\n",
      "Generating train examples...: 28534 examples [00:07, 3691.39 examples/s]\u001b[A\n",
      "Generating train examples...: 28905 examples [00:07, 3693.02 examples/s]\u001b[A\n",
      "Generating train examples...: 29275 examples [00:07, 3695.06 examples/s]\u001b[A\n",
      "Generating train examples...: 29678 examples [00:08, 3792.51 examples/s]\u001b[A\n",
      "Generating train examples...: 30061 examples [00:08, 3803.05 examples/s]\u001b[A\n",
      "Generating train examples...: 30453 examples [00:08, 3829.74 examples/s]\u001b[A\n",
      "Generating train examples...: 30841 examples [00:08, 3817.30 examples/s]\u001b[A\n",
      "Generating train examples...: 31223 examples [00:08, 3777.69 examples/s]\u001b[A\n",
      "Generating train examples...: 31601 examples [00:08, 3695.30 examples/s]\u001b[A\n",
      "Generating train examples...: 31971 examples [00:08, 3608.95 examples/s]\u001b[A\n",
      "Generating train examples...: 32333 examples [00:08, 3394.24 examples/s]\u001b[A\n",
      "Generating train examples...: 32675 examples [00:08, 3264.40 examples/s]\u001b[A\n",
      "Generating train examples...: 33024 examples [00:09, 3321.89 examples/s]\u001b[A\n",
      "Generating train examples...: 33389 examples [00:09, 3405.26 examples/s]\u001b[A\n",
      "Generating train examples...: 33806 examples [00:09, 3529.20 examples/s]\u001b[A\n",
      "Generating train examples...: 34202 examples [00:09, 3648.16 examples/s]\u001b[A\n",
      "Generating train examples...: 34573 examples [00:09, 3665.66 examples/s]\u001b[A\n",
      "Generating train examples...: 35013 examples [00:09, 3716.26 examples/s]\u001b[A\n",
      "Generating train examples...: 35385 examples [00:09, 3670.20 examples/s]\u001b[A\n",
      "Generating train examples...: 35753 examples [00:09, 3560.53 examples/s]\u001b[A\n",
      "Generating train examples...: 36121 examples [00:09, 3580.84 examples/s]\u001b[A\n",
      "Generating train examples...: 36480 examples [00:09, 3502.38 examples/s]\u001b[A\n",
      "Generating train examples...: 36831 examples [00:10, 3425.90 examples/s]\u001b[A\n",
      "Generating train examples...: 37179 examples [00:10, 3437.97 examples/s]\u001b[A\n",
      "Generating train examples...: 37555 examples [00:10, 3529.76 examples/s]\u001b[A\n",
      "Generating train examples...: 37926 examples [00:10, 3582.00 examples/s]\u001b[A\n",
      "Generating train examples...: 38285 examples [00:10, 3531.85 examples/s]\u001b[A\n",
      "Generating train examples...: 38652 examples [00:10, 3572.30 examples/s]\u001b[A\n",
      "Generating train examples...: 39029 examples [00:10, 3619.98 examples/s]\u001b[A\n",
      "Generating train examples...: 39406 examples [00:10, 3654.29 examples/s]\u001b[A\n",
      "Generating train examples...: 39772 examples [00:10, 3634.79 examples/s]\u001b[A\n",
      "Generating train examples...: 40148 examples [00:10, 3661.06 examples/s]\u001b[A\n",
      "Generating train examples...: 40532 examples [00:11, 3714.18 examples/s]\u001b[A\n",
      "Generating train examples...: 40923 examples [00:11, 3772.11 examples/s]\u001b[A\n",
      "Generating train examples...: 41310 examples [00:11, 3790.38 examples/s]\u001b[A\n",
      "Generating train examples...: 41697 examples [00:11, 3813.72 examples/s]\u001b[A\n",
      "Generating train examples...: 42168 examples [00:11, 3939.73 examples/s]\u001b[A\n",
      "Generating train examples...: 42566 examples [00:11, 3940.52 examples/s]\u001b[A\n",
      "Generating train examples...: 42960 examples [00:11, 3899.76 examples/s]\u001b[A\n",
      "Generating train examples...: 43376 examples [00:11, 3837.26 examples/s]\u001b[A\n",
      "Generating train examples...: 43760 examples [00:11, 3719.44 examples/s]\u001b[A\n",
      "Generating train examples...: 44167 examples [00:12, 3666.71 examples/s]\u001b[A\n",
      "Generating train examples...: 44536 examples [00:12, 3669.63 examples/s]\u001b[A\n",
      "Generating train examples...: 44904 examples [00:12, 3651.35 examples/s]\u001b[A\n",
      "Generating train examples...: 45278 examples [00:12, 3676.89 examples/s]\u001b[A\n",
      "Generating train examples...: 45659 examples [00:12, 3711.61 examples/s]\u001b[A\n",
      "Generating train examples...: 46031 examples [00:12, 3703.57 examples/s]\u001b[A\n",
      "Generating train examples...: 46410 examples [00:12, 3717.63 examples/s]\u001b[A\n",
      "Generating train examples...: 46782 examples [00:12, 3613.13 examples/s]\u001b[A\n",
      "Generating train examples...: 47176 examples [00:12, 3673.82 examples/s]\u001b[A\n",
      "Generating train examples...: 47544 examples [00:12, 3661.53 examples/s]\u001b[A\n",
      "Generating train examples...: 47921 examples [00:13, 3544.67 examples/s]\u001b[A\n",
      "Generating train examples...: 48335 examples [00:13, 3687.28 examples/s]\u001b[A\n",
      "Generating train examples...: 48736 examples [00:13, 3665.03 examples/s]\u001b[A\n",
      "Generating train examples...: 49118 examples [00:13, 3707.36 examples/s]\u001b[A\n",
      "Generating train examples...: 49568 examples [00:13, 3767.13 examples/s]\u001b[A\n",
      "Generating train examples...: 49973 examples [00:13, 3735.87 examples/s]\u001b[A\n",
      "Generating train examples...: 50347 examples [00:13, 3680.73 examples/s]\u001b[A\n",
      "Generating train examples...: 50716 examples [00:13, 3333.74 examples/s]\u001b[A\n",
      "Generating train examples...: 51055 examples [00:13, 3274.61 examples/s]\u001b[A\n",
      "Generating train examples...: 51386 examples [00:14, 3194.53 examples/s]\u001b[A\n",
      "Generating train examples...: 51749 examples [00:14, 3312.45 examples/s]\u001b[A\n",
      "Generating train examples...: 52143 examples [00:14, 3475.10 examples/s]\u001b[A\n",
      "Generating train examples...: 52566 examples [00:14, 3559.43 examples/s]\u001b[A\n",
      "Generating train examples...: 52934 examples [00:14, 3592.05 examples/s]\u001b[A\n",
      "Generating train examples...: 53300 examples [00:14, 3607.55 examples/s]\u001b[A\n",
      "Generating train examples...: 53702 examples [00:14, 3727.23 examples/s]\u001b[A\n",
      "Generating train examples...: 54082 examples [00:14, 3744.81 examples/s]\u001b[A\n",
      "Generating train examples...: 54458 examples [00:14, 3746.27 examples/s]\u001b[A\n",
      "Generating train examples...: 54834 examples [00:15, 3532.83 examples/s]\u001b[A\n",
      "Generating train examples...: 55191 examples [00:15, 3413.26 examples/s]\u001b[A\n",
      "Generating train examples...: 55593 examples [00:15, 3583.06 examples/s]\u001b[A\n",
      "Generating train examples...: 55959 examples [00:15, 3595.22 examples/s]\u001b[A\n",
      "Generating train examples...: 56349 examples [00:15, 3683.64 examples/s]\u001b[A\n",
      "Generating train examples...: 56760 examples [00:15, 3804.61 examples/s]\u001b[A\n",
      "Generating train examples...: 57142 examples [00:15, 3766.03 examples/s]\u001b[A\n",
      "Generating train examples...: 57520 examples [00:15, 3767.22 examples/s]\u001b[A\n",
      "Generating train examples...: 57950 examples [00:15, 3809.49 examples/s]\u001b[A\n",
      "Generating train examples...: 58332 examples [00:15, 3681.20 examples/s]\u001b[A\n",
      "Generating train examples...: 58701 examples [00:16, 3604.07 examples/s]\u001b[A\n",
      "Generating train examples...: 59063 examples [00:16, 3404.56 examples/s]\u001b[A\n",
      "Generating train examples...: 59406 examples [00:16, 3279.34 examples/s]\u001b[A\n",
      "Generating train examples...: 59754 examples [00:16, 3212.72 examples/s]\u001b[A\n",
      "                                                                        \u001b[A\n",
      "Shuffling C:\\Users\\NHI353\\tensorflow_datasets\\mnist\\3.0.1.incompleteDQR4ML\\mnist-train.tfrecord*...:   0%|                                | 0/60000 [00:00<?, ? examples/s]\u001b[A\n"
     ]
    },
    {
     "name": "stderr",
     "output_type": "stream",
     "text": [
      "Shuffling C:\\Users\\NHI353\\tensorflow_datasets\\mnist\\3.0.1.incompleteDQR4ML\\mnist-train.tfrecord*...:   2%|▎                 | 1155/60000 [00:00<00:05, 11509.92 examples/s]\u001b[A\n",
      "Shuffling C:\\Users\\NHI353\\tensorflow_datasets\\mnist\\3.0.1.incompleteDQR4ML\\mnist-train.tfrecord*...:   6%|█                 | 3358/60000 [00:00<00:03, 17590.03 examples/s]\u001b[A\n",
      "Shuffling C:\\Users\\NHI353\\tensorflow_datasets\\mnist\\3.0.1.incompleteDQR4ML\\mnist-train.tfrecord*...:   9%|█▋                | 5590/60000 [00:00<00:02, 19737.76 examples/s]\u001b[A\n",
      "Shuffling C:\\Users\\NHI353\\tensorflow_datasets\\mnist\\3.0.1.incompleteDQR4ML\\mnist-train.tfrecord*...:  13%|██▎               | 7788/60000 [00:00<00:02, 20620.07 examples/s]\u001b[A\n",
      "Shuffling C:\\Users\\NHI353\\tensorflow_datasets\\mnist\\3.0.1.incompleteDQR4ML\\mnist-train.tfrecord*...:  17%|██▊              | 10056/60000 [00:00<00:02, 21288.85 examples/s]\u001b[A\n",
      "Shuffling C:\\Users\\NHI353\\tensorflow_datasets\\mnist\\3.0.1.incompleteDQR4ML\\mnist-train.tfrecord*...:  20%|███▍             | 12260/60000 [00:00<00:02, 21540.58 examples/s]\u001b[A\n",
      "Shuffling C:\\Users\\NHI353\\tensorflow_datasets\\mnist\\3.0.1.incompleteDQR4ML\\mnist-train.tfrecord*...:  24%|████             | 14415/60000 [00:00<00:02, 21406.20 examples/s]\u001b[A\n",
      "Shuffling C:\\Users\\NHI353\\tensorflow_datasets\\mnist\\3.0.1.incompleteDQR4ML\\mnist-train.tfrecord*...:  28%|████▋            | 16563/60000 [00:00<00:02, 21359.82 examples/s]\u001b[A\n",
      "Shuffling C:\\Users\\NHI353\\tensorflow_datasets\\mnist\\3.0.1.incompleteDQR4ML\\mnist-train.tfrecord*...:  31%|█████▎           | 18842/60000 [00:00<00:01, 21736.55 examples/s]\u001b[A\n",
      "Shuffling C:\\Users\\NHI353\\tensorflow_datasets\\mnist\\3.0.1.incompleteDQR4ML\\mnist-train.tfrecord*...:  35%|█████▉           | 21147/60000 [00:01<00:01, 22074.48 examples/s]\u001b[A\n",
      "Shuffling C:\\Users\\NHI353\\tensorflow_datasets\\mnist\\3.0.1.incompleteDQR4ML\\mnist-train.tfrecord*...:  39%|██████▋          | 23557/60000 [00:01<00:01, 22687.50 examples/s]\u001b[A\n",
      "Shuffling C:\\Users\\NHI353\\tensorflow_datasets\\mnist\\3.0.1.incompleteDQR4ML\\mnist-train.tfrecord*...:  43%|███████▎         | 26000/60000 [00:01<00:01, 23147.92 examples/s]\u001b[A\n",
      "Shuffling C:\\Users\\NHI353\\tensorflow_datasets\\mnist\\3.0.1.incompleteDQR4ML\\mnist-train.tfrecord*...:  47%|████████         | 28466/60000 [00:01<00:01, 23603.52 examples/s]\u001b[A\n",
      "Shuffling C:\\Users\\NHI353\\tensorflow_datasets\\mnist\\3.0.1.incompleteDQR4ML\\mnist-train.tfrecord*...:  52%|████████▊        | 30952/60000 [00:01<00:01, 23938.76 examples/s]\u001b[A\n",
      "Shuffling C:\\Users\\NHI353\\tensorflow_datasets\\mnist\\3.0.1.incompleteDQR4ML\\mnist-train.tfrecord*...:  56%|█████████▍       | 33347/60000 [00:01<00:01, 23585.11 examples/s]\u001b[A\n",
      "Shuffling C:\\Users\\NHI353\\tensorflow_datasets\\mnist\\3.0.1.incompleteDQR4ML\\mnist-train.tfrecord*...:  60%|██████████       | 35707/60000 [00:01<00:01, 23244.26 examples/s]\u001b[A\n",
      "Shuffling C:\\Users\\NHI353\\tensorflow_datasets\\mnist\\3.0.1.incompleteDQR4ML\\mnist-train.tfrecord*...:  63%|██████████▊      | 38033/60000 [00:01<00:00, 22839.22 examples/s]\u001b[A\n",
      "Shuffling C:\\Users\\NHI353\\tensorflow_datasets\\mnist\\3.0.1.incompleteDQR4ML\\mnist-train.tfrecord*...:  67%|███████████▍     | 40329/60000 [00:01<00:00, 22810.19 examples/s]\u001b[A\n",
      "Shuffling C:\\Users\\NHI353\\tensorflow_datasets\\mnist\\3.0.1.incompleteDQR4ML\\mnist-train.tfrecord*...:  71%|████████████     | 42663/60000 [00:01<00:00, 22958.20 examples/s]\u001b[A\n",
      "Shuffling C:\\Users\\NHI353\\tensorflow_datasets\\mnist\\3.0.1.incompleteDQR4ML\\mnist-train.tfrecord*...:  75%|████████████▊    | 45025/60000 [00:02<00:00, 23085.61 examples/s]\u001b[A\n",
      "Shuffling C:\\Users\\NHI353\\tensorflow_datasets\\mnist\\3.0.1.incompleteDQR4ML\\mnist-train.tfrecord*...:  79%|█████████████▍   | 47335/60000 [00:02<00:00, 23051.23 examples/s]\u001b[A\n",
      "Shuffling C:\\Users\\NHI353\\tensorflow_datasets\\mnist\\3.0.1.incompleteDQR4ML\\mnist-train.tfrecord*...:  83%|██████████████   | 49641/60000 [00:02<00:00, 22259.85 examples/s]\u001b[A\n",
      "Shuffling C:\\Users\\NHI353\\tensorflow_datasets\\mnist\\3.0.1.incompleteDQR4ML\\mnist-train.tfrecord*...:  86%|██████████████▋  | 51873/60000 [00:02<00:00, 20852.56 examples/s]\u001b[A\n",
      "Shuffling C:\\Users\\NHI353\\tensorflow_datasets\\mnist\\3.0.1.incompleteDQR4ML\\mnist-train.tfrecord*...:  90%|███████████████▎ | 53978/60000 [00:02<00:00, 19715.39 examples/s]\u001b[A\n",
      "Shuffling C:\\Users\\NHI353\\tensorflow_datasets\\mnist\\3.0.1.incompleteDQR4ML\\mnist-train.tfrecord*...:  93%|███████████████▊ | 55971/60000 [00:02<00:00, 18845.95 examples/s]\u001b[A\n",
      "Shuffling C:\\Users\\NHI353\\tensorflow_datasets\\mnist\\3.0.1.incompleteDQR4ML\\mnist-train.tfrecord*...:  97%|████████████████▍| 57919/60000 [00:02<00:00, 18968.53 examples/s]\u001b[A\n",
      "Shuffling C:\\Users\\NHI353\\tensorflow_datasets\\mnist\\3.0.1.incompleteDQR4ML\\mnist-train.tfrecord*...: 100%|████████████████▉| 59829/60000 [00:02<00:00, 19004.91 examples/s]\u001b[A\n",
      "Generating splits...:  50%|██████████████████████████████████████████████████████▌                                                      | 1/2 [00:19<00:19, 19.59s/ splits]\u001b[A\n",
      "Generating test examples...: 0 examples [00:00, ? examples/s]\u001b[A\n",
      "Generating test examples...: 322 examples [00:00, 3195.90 examples/s]\u001b[A\n",
      "Generating test examples...: 672 examples [00:00, 3364.51 examples/s]\u001b[A\n",
      "Generating test examples...: 1035 examples [00:00, 3469.96 examples/s]\u001b[A\n",
      "Generating test examples...: 1382 examples [00:00, 3414.36 examples/s]\u001b[A\n",
      "Generating test examples...: 1724 examples [00:00, 3202.93 examples/s]\u001b[A\n",
      "Generating test examples...: 2047 examples [00:00, 3076.02 examples/s]\u001b[A\n",
      "Generating test examples...: 2357 examples [00:00, 2982.89 examples/s]\u001b[A\n",
      "Generating test examples...: 2657 examples [00:00, 2910.36 examples/s]\u001b[A\n",
      "Generating test examples...: 2955 examples [00:00, 2930.39 examples/s]\u001b[A\n",
      "Generating test examples...: 3279 examples [00:01, 3012.82 examples/s]\u001b[A\n",
      "Generating test examples...: 3602 examples [00:01, 3068.00 examples/s]\u001b[A\n",
      "Generating test examples...: 3942 examples [00:01, 3157.36 examples/s]\u001b[A\n",
      "Generating test examples...: 4283 examples [00:01, 3232.32 examples/s]\u001b[A\n",
      "Generating test examples...: 4631 examples [00:01, 3296.61 examples/s]\u001b[A\n",
      "Generating test examples...: 4967 examples [00:01, 3305.68 examples/s]\u001b[A\n",
      "Generating test examples...: 5298 examples [00:01, 3275.40 examples/s]\u001b[A\n",
      "Generating test examples...: 5626 examples [00:01, 3210.46 examples/s]\u001b[A\n",
      "Generating test examples...: 5948 examples [00:01, 3173.14 examples/s]\u001b[A\n",
      "Generating test examples...: 6266 examples [00:01, 3156.27 examples/s]\u001b[A\n",
      "Generating test examples...: 6595 examples [00:02, 3186.19 examples/s]\u001b[A\n",
      "Generating test examples...: 6916 examples [00:02, 3188.35 examples/s]\u001b[A\n",
      "Generating test examples...: 7265 examples [00:02, 3235.73 examples/s]\u001b[A\n",
      "Generating test examples...: 7603 examples [00:02, 3277.20 examples/s]\u001b[A\n",
      "Generating test examples...: 7936 examples [00:02, 3292.79 examples/s]\u001b[A\n",
      "Generating test examples...: 8282 examples [00:02, 3333.48 examples/s]\u001b[A\n",
      "Generating test examples...: 8616 examples [00:02, 3277.71 examples/s]\u001b[A\n",
      "Generating test examples...: 8950 examples [00:02, 3290.82 examples/s]\u001b[A\n",
      "Generating test examples...: 9280 examples [00:02, 3162.95 examples/s]\u001b[A\n",
      "Generating test examples...: 9598 examples [00:03, 3133.28 examples/s]\u001b[A\n",
      "Generating test examples...: 9918 examples [00:03, 3143.54 examples/s]\u001b[A\n",
      "                                                                      \u001b[A\n",
      "Shuffling C:\\Users\\NHI353\\tensorflow_datasets\\mnist\\3.0.1.incompleteDQR4ML\\mnist-test.tfrecord*...:   0%|                                 | 0/10000 [00:00<?, ? examples/s]\u001b[A\n",
      "Shuffling C:\\Users\\NHI353\\tensorflow_datasets\\mnist\\3.0.1.incompleteDQR4ML\\mnist-test.tfrecord*...:  20%|███▉               | 2041/10000 [00:00<00:00, 20409.39 examples/s]\u001b[A\n",
      "Shuffling C:\\Users\\NHI353\\tensorflow_datasets\\mnist\\3.0.1.incompleteDQR4ML\\mnist-test.tfrecord*...:  42%|███████▉           | 4175/10000 [00:00<00:00, 20953.05 examples/s]\u001b[A\n",
      "Shuffling C:\\Users\\NHI353\\tensorflow_datasets\\mnist\\3.0.1.incompleteDQR4ML\\mnist-test.tfrecord*...:  65%|████████████▎      | 6506/10000 [00:00<00:00, 21932.65 examples/s]\u001b[A\n",
      "Shuffling C:\\Users\\NHI353\\tensorflow_datasets\\mnist\\3.0.1.incompleteDQR4ML\\mnist-test.tfrecord*...:  89%|████████████████▉  | 8905/10000 [00:00<00:00, 22706.05 examples/s]\u001b[A\n"
     ]
    },
    {
     "name": "stderr",
     "output_type": "stream",
     "text": [
      "                                                                                                                                                                           \u001b[A\r"
     ]
    },
    {
     "name": "stdout",
     "output_type": "stream",
     "text": [
      "Dataset mnist downloaded and prepared to C:\\Users\\NHI353\\tensorflow_datasets\\mnist\\3.0.1. Subsequent calls will reuse this data.\n"
     ]
    }
   ],
   "source": [
    "dataset = tfds.load(name='mnist')"
   ]
  },
  {
   "cell_type": "code",
   "execution_count": 6,
   "metadata": {
    "id": "7ziNIrQ-_z1y"
   },
   "outputs": [],
   "source": [
    "train_split = dataset['train'] \n",
    "test_split = dataset['test'] "
   ]
  },
  {
   "cell_type": "code",
   "execution_count": 8,
   "metadata": {
    "id": "ZLi-blfhAHJH"
   },
   "outputs": [],
   "source": [
    "batched_train_dataset = train_split.batch(32) "
   ]
  },
  {
   "cell_type": "code",
   "execution_count": 11,
   "metadata": {
    "colab": {
     "base_uri": "https://localhost:8080/"
    },
    "id": "fcDsLHRYAJCO",
    "outputId": "7f9baaff-f9df-4098-cfd5-bc1ce6ce4530"
   },
   "outputs": [
    {
     "name": "stdout",
     "output_type": "stream",
     "text": [
      "dict_keys(['image', 'label'])\n",
      "(32, 28, 28, 1)\n",
      "(32,)\n"
     ]
    }
   ],
   "source": [
    "for batch in batched_train_dataset.take(1):\n",
    "  print(batch.keys()) \n",
    "  print(batch['image'].shape) \n",
    "  print(batch['label'].shape) "
   ]
  },
  {
   "cell_type": "code",
   "execution_count": 12,
   "metadata": {
    "colab": {
     "base_uri": "https://localhost:8080/"
    },
    "id": "QL405hGoBf4N",
    "outputId": "6e8bde50-26b0-4cec-8412-5f14ddb2e212"
   },
   "outputs": [
    {
     "name": "stdout",
     "output_type": "stream",
     "text": [
      "dict_keys(['image', 'label'])\n",
      "(28, 28, 1)\n",
      "()\n"
     ]
    }
   ],
   "source": [
    "for sample in train_split.take(1):\n",
    "  print(sample.keys()) \n",
    "  print(sample['image'].shape) \n",
    "  print(sample['label'].shape) "
   ]
  },
  {
   "cell_type": "code",
   "execution_count": 15,
   "metadata": {
    "colab": {
     "base_uri": "https://localhost:8080/"
    },
    "id": "m-AvB2yxAJJz",
    "outputId": "a4e86df3-6178-4a68-8faf-bcb21fd9fe95"
   },
   "outputs": [
    {
     "data": {
      "text/plain": [
       "1117"
      ]
     },
     "execution_count": 15,
     "metadata": {},
     "output_type": "execute_result"
    }
   ],
   "source": [
    "len(tfds.list_builders())"
   ]
  },
  {
   "cell_type": "code",
   "execution_count": 16,
   "metadata": {
    "id": "NuB8dMfMAJVA"
   },
   "outputs": [],
   "source": [
    "dataset, info = tfds.load(name='mnist', with_info=True) "
   ]
  },
  {
   "cell_type": "code",
   "execution_count": 17,
   "metadata": {
    "colab": {
     "base_uri": "https://localhost:8080/"
    },
    "id": "TN3thBa7Dl2O",
    "outputId": "02beb6ac-d877-4be7-bc19-5cbdaf1ddac1"
   },
   "outputs": [
    {
     "data": {
      "text/plain": [
       "tfds.core.DatasetInfo(\n",
       "    name='mnist',\n",
       "    full_name='mnist/3.0.1',\n",
       "    description=\"\"\"\n",
       "    The MNIST database of handwritten digits.\n",
       "    \"\"\",\n",
       "    homepage='http://yann.lecun.com/exdb/mnist/',\n",
       "    data_path='~/tensorflow_datasets/mnist/3.0.1',\n",
       "    file_format=tfrecord,\n",
       "    download_size=11.06 MiB,\n",
       "    dataset_size=21.00 MiB,\n",
       "    features=FeaturesDict({\n",
       "        'image': Image(shape=(28, 28, 1), dtype=tf.uint8),\n",
       "        'label': ClassLabel(shape=(), dtype=tf.int64, num_classes=10),\n",
       "    }),\n",
       "    supervised_keys=('image', 'label'),\n",
       "    disable_shuffling=False,\n",
       "    splits={\n",
       "        'test': <SplitInfo num_examples=10000, num_shards=1>,\n",
       "        'train': <SplitInfo num_examples=60000, num_shards=1>,\n",
       "    },\n",
       "    citation=\"\"\"@article{lecun2010mnist,\n",
       "      title={MNIST handwritten digit database},\n",
       "      author={LeCun, Yann and Cortes, Corinna and Burges, CJ},\n",
       "      journal={ATT Labs [Online]. Available: http://yann.lecun.com/exdb/mnist},\n",
       "      volume={2},\n",
       "      year={2010}\n",
       "    }\"\"\",\n",
       ")"
      ]
     },
     "execution_count": 17,
     "metadata": {},
     "output_type": "execute_result"
    }
   ],
   "source": [
    "info"
   ]
  },
  {
   "cell_type": "code",
   "execution_count": 18,
   "metadata": {
    "id": "sTTqJ7dHDngV"
   },
   "outputs": [],
   "source": [
    "dataset = tfds.load(name='mnist', as_supervised=True)"
   ]
  },
  {
   "cell_type": "code",
   "execution_count": 23,
   "metadata": {
    "id": "E7cdcJK9J1q0"
   },
   "outputs": [],
   "source": [
    "train_split = dataset['train']"
   ]
  },
  {
   "cell_type": "code",
   "execution_count": 24,
   "metadata": {
    "colab": {
     "base_uri": "https://localhost:8080/"
    },
    "id": "Es5h2EjgJ3NV",
    "outputId": "110ae444-a515-4757-c45f-d83ede372c52"
   },
   "outputs": [
    {
     "data": {
      "text/plain": [
       "True"
      ]
     },
     "execution_count": 24,
     "metadata": {},
     "output_type": "execute_result"
    }
   ],
   "source": [
    "isinstance(train_split, tf.data.Dataset)"
   ]
  },
  {
   "cell_type": "code",
   "execution_count": 28,
   "metadata": {
    "colab": {
     "base_uri": "https://localhost:8080/"
    },
    "id": "IeOBgla-J9Zr",
    "outputId": "67101b11-363f-49c1-bc2e-9fa62d24f192"
   },
   "outputs": [
    {
     "name": "stdout",
     "output_type": "stream",
     "text": [
      "(28, 28, 1) ()\n"
     ]
    }
   ],
   "source": [
    "for sample in train_split.take(1):\n",
    "  image = sample[0] \n",
    "  label = sample[1]\n",
    "  print(image.shape, label.shape)"
   ]
  },
  {
   "cell_type": "code",
   "execution_count": 31,
   "metadata": {
    "colab": {
     "base_uri": "https://localhost:8080/"
    },
    "id": "_IxmmwKcKYvd",
    "outputId": "5aafaa36-b809-4828-ae8a-ab67d796860f"
   },
   "outputs": [
    {
     "name": "stdout",
     "output_type": "stream",
     "text": [
      "each sample is of type <class 'dict'>\n",
      "image has shape (28, 28, 1) and label has shape ()\n"
     ]
    }
   ],
   "source": [
    "dataset = tfds.load(name='mnist') \n",
    "train_split = dataset['train'] \n",
    "test_split = dataset['test'] \n",
    "for sample in train_split.take(1):\n",
    "  print('each sample is of type', type(sample)) \n",
    "  image = sample['image'] \n",
    "  label = sample['label'] \n",
    "  print('image has shape', image.shape, 'and label has shape', label.shape) "
   ]
  },
  {
   "cell_type": "code",
   "execution_count": 32,
   "metadata": {
    "colab": {
     "base_uri": "https://localhost:8080/"
    },
    "id": "6ttvKITeLgs8",
    "outputId": "88beabe5-92e6-4df8-a5aa-d643f8868830"
   },
   "outputs": [
    {
     "name": "stdout",
     "output_type": "stream",
     "text": [
      "each sample is of type <class 'tuple'>\n",
      "image has shape (28, 28, 1) and label has shape ()\n"
     ]
    }
   ],
   "source": [
    "dataset = tfds.load(name='mnist', as_supervised=True) \n",
    "train_split = dataset['train'] \n",
    "test_split = dataset['test'] \n",
    "for sample in train_split.take(1):\n",
    "  print('each sample is of type', type(sample)) \n",
    "  image = sample[0] \n",
    "  label = sample[1] \n",
    "  print('image has shape', image.shape, 'and label has shape', label.shape) "
   ]
  },
  {
   "cell_type": "code",
   "execution_count": 38,
   "metadata": {
    "id": "6anLxig7atb8"
   },
   "outputs": [],
   "source": [
    "iterator = train_split.take(10)"
   ]
  },
  {
   "cell_type": "code",
   "execution_count": 39,
   "metadata": {
    "colab": {
     "base_uri": "https://localhost:8080/"
    },
    "id": "tAG7godcaxNN",
    "outputId": "94f19bdb-336b-4ffd-acc4-cf6e8c6d4527"
   },
   "outputs": [
    {
     "name": "stdout",
     "output_type": "stream",
     "text": [
      "each sample is of type <class 'tuple'>\n",
      "image has shape (28, 28, 1) and label has shape ()\n",
      "each sample is of type <class 'tuple'>\n",
      "image has shape (28, 28, 1) and label has shape ()\n",
      "each sample is of type <class 'tuple'>\n",
      "image has shape (28, 28, 1) and label has shape ()\n",
      "each sample is of type <class 'tuple'>\n",
      "image has shape (28, 28, 1) and label has shape ()\n",
      "each sample is of type <class 'tuple'>\n",
      "image has shape (28, 28, 1) and label has shape ()\n",
      "each sample is of type <class 'tuple'>\n",
      "image has shape (28, 28, 1) and label has shape ()\n",
      "each sample is of type <class 'tuple'>\n",
      "image has shape (28, 28, 1) and label has shape ()\n",
      "each sample is of type <class 'tuple'>\n",
      "image has shape (28, 28, 1) and label has shape ()\n",
      "each sample is of type <class 'tuple'>\n",
      "image has shape (28, 28, 1) and label has shape ()\n",
      "each sample is of type <class 'tuple'>\n",
      "image has shape (28, 28, 1) and label has shape ()\n"
     ]
    }
   ],
   "source": [
    "for sample in iterator:\n",
    "  print('each sample is of type', type(sample)) \n",
    "  image = sample[0] \n",
    "  label = sample[1] \n",
    "  print('image has shape', image.shape, 'and label has shape', label.shape) "
   ]
  },
  {
   "cell_type": "markdown",
   "metadata": {
    "id": "xNo4BzCJa4TI"
   },
   "source": [
    "Splits API"
   ]
  },
  {
   "cell_type": "code",
   "execution_count": null,
   "metadata": {},
   "outputs": [],
   "source": []
  }
 ],
 "metadata": {
  "colab": {
   "name": "scratchpad",
   "provenance": []
  },
  "kernelspec": {
   "display_name": "Python 3 (ipykernel)",
   "language": "python",
   "name": "python3"
  },
  "language_info": {
   "codemirror_mode": {
    "name": "ipython",
    "version": 3
   },
   "file_extension": ".py",
   "mimetype": "text/x-python",
   "name": "python",
   "nbconvert_exporter": "python",
   "pygments_lexer": "ipython3",
   "version": "3.7.15"
  },
  "widgets": {
   "application/vnd.jupyter.widget-state+json": {
    "06e956e6a96c4829a18e1f5c457196f6": {
     "model_module": "@jupyter-widgets/base",
     "model_module_version": "1.2.0",
     "model_name": "LayoutModel",
     "state": {
      "_model_module": "@jupyter-widgets/base",
      "_model_module_version": "1.2.0",
      "_model_name": "LayoutModel",
      "_view_count": null,
      "_view_module": "@jupyter-widgets/base",
      "_view_module_version": "1.2.0",
      "_view_name": "LayoutView",
      "align_content": null,
      "align_items": null,
      "align_self": null,
      "border": null,
      "bottom": null,
      "display": null,
      "flex": null,
      "flex_flow": null,
      "grid_area": null,
      "grid_auto_columns": null,
      "grid_auto_flow": null,
      "grid_auto_rows": null,
      "grid_column": null,
      "grid_gap": null,
      "grid_row": null,
      "grid_template_areas": null,
      "grid_template_columns": null,
      "grid_template_rows": null,
      "height": null,
      "justify_content": null,
      "justify_items": null,
      "left": null,
      "margin": null,
      "max_height": null,
      "max_width": null,
      "min_height": null,
      "min_width": null,
      "object_fit": null,
      "object_position": null,
      "order": null,
      "overflow": null,
      "overflow_x": null,
      "overflow_y": null,
      "padding": null,
      "right": null,
      "top": null,
      "visibility": null,
      "width": null
     }
    },
    "0feadfb1092846d3a5550444c974d626": {
     "model_module": "@jupyter-widgets/controls",
     "model_module_version": "1.5.0",
     "model_name": "HBoxModel",
     "state": {
      "_dom_classes": [],
      "_model_module": "@jupyter-widgets/controls",
      "_model_module_version": "1.5.0",
      "_model_name": "HBoxModel",
      "_view_count": null,
      "_view_module": "@jupyter-widgets/controls",
      "_view_module_version": "1.5.0",
      "_view_name": "HBoxView",
      "box_style": "",
      "children": [
       "IPY_MODEL_fd183994060d424bb6cad6f0ec334f39",
       "IPY_MODEL_73d348581a474724a82d094bc9c8a6c2",
       "IPY_MODEL_8366178ba61e4fd79b51221ed1c49154"
      ],
      "layout": "IPY_MODEL_9cb708f578864f259dd20a1bbbac89e7"
     }
    },
    "21474b17579145b89e22a5f32a86dbdf": {
     "model_module": "@jupyter-widgets/controls",
     "model_module_version": "1.5.0",
     "model_name": "DescriptionStyleModel",
     "state": {
      "_model_module": "@jupyter-widgets/controls",
      "_model_module_version": "1.5.0",
      "_model_name": "DescriptionStyleModel",
      "_view_count": null,
      "_view_module": "@jupyter-widgets/base",
      "_view_module_version": "1.2.0",
      "_view_name": "StyleView",
      "description_width": ""
     }
    },
    "721b5509125b40e9856ece0de2534339": {
     "model_module": "@jupyter-widgets/base",
     "model_module_version": "1.2.0",
     "model_name": "LayoutModel",
     "state": {
      "_model_module": "@jupyter-widgets/base",
      "_model_module_version": "1.2.0",
      "_model_name": "LayoutModel",
      "_view_count": null,
      "_view_module": "@jupyter-widgets/base",
      "_view_module_version": "1.2.0",
      "_view_name": "LayoutView",
      "align_content": null,
      "align_items": null,
      "align_self": null,
      "border": null,
      "bottom": null,
      "display": null,
      "flex": null,
      "flex_flow": null,
      "grid_area": null,
      "grid_auto_columns": null,
      "grid_auto_flow": null,
      "grid_auto_rows": null,
      "grid_column": null,
      "grid_gap": null,
      "grid_row": null,
      "grid_template_areas": null,
      "grid_template_columns": null,
      "grid_template_rows": null,
      "height": null,
      "justify_content": null,
      "justify_items": null,
      "left": null,
      "margin": null,
      "max_height": null,
      "max_width": null,
      "min_height": null,
      "min_width": null,
      "object_fit": null,
      "object_position": null,
      "order": null,
      "overflow": null,
      "overflow_x": null,
      "overflow_y": null,
      "padding": null,
      "right": null,
      "top": null,
      "visibility": null,
      "width": null
     }
    },
    "73d348581a474724a82d094bc9c8a6c2": {
     "model_module": "@jupyter-widgets/controls",
     "model_module_version": "1.5.0",
     "model_name": "FloatProgressModel",
     "state": {
      "_dom_classes": [],
      "_model_module": "@jupyter-widgets/controls",
      "_model_module_version": "1.5.0",
      "_model_name": "FloatProgressModel",
      "_view_count": null,
      "_view_module": "@jupyter-widgets/controls",
      "_view_module_version": "1.5.0",
      "_view_name": "ProgressView",
      "bar_style": "success",
      "description": "",
      "description_tooltip": null,
      "layout": "IPY_MODEL_721b5509125b40e9856ece0de2534339",
      "max": 4,
      "min": 0,
      "orientation": "horizontal",
      "style": "IPY_MODEL_e51a574da0de4fadb7f5525097ee29ec",
      "value": 4
     }
    },
    "8366178ba61e4fd79b51221ed1c49154": {
     "model_module": "@jupyter-widgets/controls",
     "model_module_version": "1.5.0",
     "model_name": "HTMLModel",
     "state": {
      "_dom_classes": [],
      "_model_module": "@jupyter-widgets/controls",
      "_model_module_version": "1.5.0",
      "_model_name": "HTMLModel",
      "_view_count": null,
      "_view_module": "@jupyter-widgets/controls",
      "_view_module_version": "1.5.0",
      "_view_name": "HTMLView",
      "description": "",
      "description_tooltip": null,
      "layout": "IPY_MODEL_cee80c6274a34488ae7a025b70532147",
      "placeholder": "​",
      "style": "IPY_MODEL_9d10e51fd2c54c95bb17c61dfad96019",
      "value": " 4/4 [00:00&lt;00:00, 12.89 file/s]"
     }
    },
    "9cb708f578864f259dd20a1bbbac89e7": {
     "model_module": "@jupyter-widgets/base",
     "model_module_version": "1.2.0",
     "model_name": "LayoutModel",
     "state": {
      "_model_module": "@jupyter-widgets/base",
      "_model_module_version": "1.2.0",
      "_model_name": "LayoutModel",
      "_view_count": null,
      "_view_module": "@jupyter-widgets/base",
      "_view_module_version": "1.2.0",
      "_view_name": "LayoutView",
      "align_content": null,
      "align_items": null,
      "align_self": null,
      "border": null,
      "bottom": null,
      "display": null,
      "flex": null,
      "flex_flow": null,
      "grid_area": null,
      "grid_auto_columns": null,
      "grid_auto_flow": null,
      "grid_auto_rows": null,
      "grid_column": null,
      "grid_gap": null,
      "grid_row": null,
      "grid_template_areas": null,
      "grid_template_columns": null,
      "grid_template_rows": null,
      "height": null,
      "justify_content": null,
      "justify_items": null,
      "left": null,
      "margin": null,
      "max_height": null,
      "max_width": null,
      "min_height": null,
      "min_width": null,
      "object_fit": null,
      "object_position": null,
      "order": null,
      "overflow": null,
      "overflow_x": null,
      "overflow_y": null,
      "padding": null,
      "right": null,
      "top": null,
      "visibility": null,
      "width": null
     }
    },
    "9d10e51fd2c54c95bb17c61dfad96019": {
     "model_module": "@jupyter-widgets/controls",
     "model_module_version": "1.5.0",
     "model_name": "DescriptionStyleModel",
     "state": {
      "_model_module": "@jupyter-widgets/controls",
      "_model_module_version": "1.5.0",
      "_model_name": "DescriptionStyleModel",
      "_view_count": null,
      "_view_module": "@jupyter-widgets/base",
      "_view_module_version": "1.2.0",
      "_view_name": "StyleView",
      "description_width": ""
     }
    },
    "cee80c6274a34488ae7a025b70532147": {
     "model_module": "@jupyter-widgets/base",
     "model_module_version": "1.2.0",
     "model_name": "LayoutModel",
     "state": {
      "_model_module": "@jupyter-widgets/base",
      "_model_module_version": "1.2.0",
      "_model_name": "LayoutModel",
      "_view_count": null,
      "_view_module": "@jupyter-widgets/base",
      "_view_module_version": "1.2.0",
      "_view_name": "LayoutView",
      "align_content": null,
      "align_items": null,
      "align_self": null,
      "border": null,
      "bottom": null,
      "display": null,
      "flex": null,
      "flex_flow": null,
      "grid_area": null,
      "grid_auto_columns": null,
      "grid_auto_flow": null,
      "grid_auto_rows": null,
      "grid_column": null,
      "grid_gap": null,
      "grid_row": null,
      "grid_template_areas": null,
      "grid_template_columns": null,
      "grid_template_rows": null,
      "height": null,
      "justify_content": null,
      "justify_items": null,
      "left": null,
      "margin": null,
      "max_height": null,
      "max_width": null,
      "min_height": null,
      "min_width": null,
      "object_fit": null,
      "object_position": null,
      "order": null,
      "overflow": null,
      "overflow_x": null,
      "overflow_y": null,
      "padding": null,
      "right": null,
      "top": null,
      "visibility": null,
      "width": null
     }
    },
    "e51a574da0de4fadb7f5525097ee29ec": {
     "model_module": "@jupyter-widgets/controls",
     "model_module_version": "1.5.0",
     "model_name": "ProgressStyleModel",
     "state": {
      "_model_module": "@jupyter-widgets/controls",
      "_model_module_version": "1.5.0",
      "_model_name": "ProgressStyleModel",
      "_view_count": null,
      "_view_module": "@jupyter-widgets/base",
      "_view_module_version": "1.2.0",
      "_view_name": "StyleView",
      "bar_color": null,
      "description_width": ""
     }
    },
    "fd183994060d424bb6cad6f0ec334f39": {
     "model_module": "@jupyter-widgets/controls",
     "model_module_version": "1.5.0",
     "model_name": "HTMLModel",
     "state": {
      "_dom_classes": [],
      "_model_module": "@jupyter-widgets/controls",
      "_model_module_version": "1.5.0",
      "_model_name": "HTMLModel",
      "_view_count": null,
      "_view_module": "@jupyter-widgets/controls",
      "_view_module_version": "1.5.0",
      "_view_name": "HTMLView",
      "description": "",
      "description_tooltip": null,
      "layout": "IPY_MODEL_06e956e6a96c4829a18e1f5c457196f6",
      "placeholder": "​",
      "style": "IPY_MODEL_21474b17579145b89e22a5f32a86dbdf",
      "value": "Dl Completed...: 100%"
     }
    }
   }
  }
 },
 "nbformat": 4,
 "nbformat_minor": 1
}
